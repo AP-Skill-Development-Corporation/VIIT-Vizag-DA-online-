{
 "cells": [
  {
   "cell_type": "markdown",
   "metadata": {},
   "source": [
    "#### Markdown\n",
    "- used for documenation(profssional/technical documents)\n",
    "- allows the web designing languages to execute"
   ]
  },
  {
   "cell_type": "markdown",
   "metadata": {},
   "source": [
    "#### order\n",
    "1. chapters\n",
    "    2. sub topics\n",
    "        3. paragraphs/description\n",
    "            1. text\n",
    "            2. images\n",
    "            3. urls/links"
   ]
  },
  {
   "cell_type": "markdown",
   "metadata": {},
   "source": [
    "# heading1\n",
    "## heading2\n",
    "### heading3\n",
    "#### headding4\n",
    "##### heading5\n",
    "###### heading6\n",
    "####### normal text"
   ]
  },
  {
   "cell_type": "markdown",
   "metadata": {},
   "source": [
    "### font styles\n",
    "- normal/plain text\n",
    "- second text\n",
    "third line\n",
    "- *italic* text\n",
    "- **bold** text\n",
    "- ***italic bold/bold italic*** text "
   ]
  },
  {
   "cell_type": "markdown",
   "metadata": {},
   "source": [
    "### python\n",
    "- it is a general purpose,high level and interpreted programming language\n",
    "    - **General purpose**\n",
    "        - used for multiple purposes such as scientific computation,developement\n",
    "    - **High Level**\n",
    "        - user understandable language\n",
    "    - **interpreted**\n",
    "        - gives the line by line execution\n",
    "- *features*\n",
    "    1. semi-object oriented\n",
    "    2. dynamically typed language\n",
    "    3. it is both case sensitive and space sensitive\n",
    "    4. it is easy to learn and simple to code\n",
    "    5. no prior knowlwdge of programming\n",
    "- **applications**\n",
    "    1. development(system s/w,mbl applications,web developement)\n",
    "    "
   ]
  },
  {
   "cell_type": "markdown",
   "metadata": {},
   "source": [
    "#### course over view\n",
    "1. Day1\n",
    "    - python basics\n",
    "        - var,conditionals,keywords\n",
    "            - description\n",
    "                - text/images/urls\n",
    "2. files\n",
    "3. Day3\n",
    "    - topics\n",
    "- Day4\n",
    "    - topics\n"
   ]
  },
  {
   "cell_type": "markdown",
   "metadata": {},
   "source": [
    "##### displaying images\n",
    "- by using html language"
   ]
  },
  {
   "cell_type": "markdown",
   "metadata": {},
   "source": [
    "##### executing html code in markdown"
   ]
  },
  {
   "cell_type": "markdown",
   "metadata": {},
   "source": [
    "<p>this is a pragraph written using p tag</p>\n",
    "<h3 style='color:red'>I am coloured text</h3>"
   ]
  },
  {
   "cell_type": "markdown",
   "metadata": {},
   "source": [
    "<img src=\"vg.jpg\">"
   ]
  },
  {
   "cell_type": "markdown",
   "metadata": {},
   "source": [
    "\n",
    "<h4 style='align:center'>displaying the image</h4>\n",
    "<img src='vg.jpg' width=50px height=80px>"
   ]
  },
  {
   "cell_type": "markdown",
   "metadata": {},
   "source": [
    "#### resource links\n",
    "- [text to display](link/locator)"
   ]
  },
  {
   "cell_type": "markdown",
   "metadata": {},
   "source": [
    "##### social media\n",
    "1. [college](https://vignaniit.edu.in/)\n",
    "2. [facebook](https://facebook.com/)\n",
    "3. [youtube](https:youtube.com/)\n",
    "4. [Google](google.com)"
   ]
  },
  {
   "cell_type": "markdown",
   "metadata": {},
   "source": [
    "##### list and table\n"
   ]
  },
  {
   "cell_type": "markdown",
   "metadata": {},
   "source": [
    "| Name  |Des|Location|\n",
    "----------|:------|:----|\n",
    "|Ruthu|Trainer|Guntur|\n",
    "|Vanitha|Trainee|Krishna|\n",
    "|--------|------|-----|\n",
    "|Nandini|Software|Godavari|"
   ]
  },
  {
   "cell_type": "markdown",
   "metadata": {},
   "source": [
    "| Names  |      Age      |  Designation|\n",
    "|--------|:-------------:|----------:  |\n",
    "| First  |  24            | Trainee|\n",
    "| second |    25         |   Developer|\n",
    "| Third | 24           | Engineer |\n",
    "    "
   ]
  },
  {
   "cell_type": "code",
   "execution_count": null,
   "metadata": {},
   "outputs": [],
   "source": []
  }
 ],
 "metadata": {
  "kernelspec": {
   "display_name": "Python 3",
   "language": "python",
   "name": "python3"
  },
  "language_info": {
   "codemirror_mode": {
    "name": "ipython",
    "version": 3
   },
   "file_extension": ".py",
   "mimetype": "text/x-python",
   "name": "python",
   "nbconvert_exporter": "python",
   "pygments_lexer": "ipython3",
   "version": "3.7.6"
  }
 },
 "nbformat": 4,
 "nbformat_minor": 4
}
