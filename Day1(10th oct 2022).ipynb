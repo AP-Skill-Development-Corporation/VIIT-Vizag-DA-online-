{
 "cells": [
  {
   "cell_type": "code",
   "execution_count": 1,
   "metadata": {
    "collapsed": true
   },
   "outputs": [
    {
     "ename": "SyntaxError",
     "evalue": "invalid syntax (<ipython-input-1-97ac121ed824>, line 2)",
     "output_type": "error",
     "traceback": [
      "\u001b[1;36m  File \u001b[1;32m\"<ipython-input-1-97ac121ed824>\"\u001b[1;36m, line \u001b[1;32m2\u001b[0m\n\u001b[1;33m    Trainer cum Developer\u001b[0m\n\u001b[1;37m              ^\u001b[0m\n\u001b[1;31mSyntaxError\u001b[0m\u001b[1;31m:\u001b[0m invalid syntax\n"
     ]
    }
   ],
   "source": [
    "Ruthu \n",
    "Trainer cum Developer\n",
    "3+ Years of experience"
   ]
  },
  {
   "cell_type": "code",
   "execution_count": 2,
   "metadata": {
    "collapsed": true
   },
   "outputs": [
    {
     "ename": "SyntaxError",
     "evalue": "invalid syntax (<ipython-input-2-f1ea83fe4e2a>, line 4)",
     "output_type": "error",
     "traceback": [
      "\u001b[1;36m  File \u001b[1;32m\"<ipython-input-2-f1ea83fe4e2a>\"\u001b[1;36m, line \u001b[1;32m4\u001b[0m\n\u001b[1;33m    anaconda3(spider,jupyter notebook)\u001b[0m\n\u001b[1;37m                                    ^\u001b[0m\n\u001b[1;31mSyntaxError\u001b[0m\u001b[1;31m:\u001b[0m invalid syntax\n"
     ]
    }
   ],
   "source": [
    "IDLE\n",
    "pycharm\n",
    "spider\n",
    "anaconda3(spider,jupyter notebook)\n",
    "- it contains all the inbuilt modules imported by defaults\n",
    "- literate programming\n",
    "- programming along with documentation"
   ]
  },
  {
   "cell_type": "code",
   "execution_count": 3,
   "metadata": {
    "collapsed": true
   },
   "outputs": [
    {
     "ename": "SyntaxError",
     "evalue": "invalid syntax (<ipython-input-3-04b292265735>, line 1)",
     "output_type": "error",
     "traceback": [
      "\u001b[1;36m  File \u001b[1;32m\"<ipython-input-3-04b292265735>\"\u001b[1;36m, line \u001b[1;32m1\u001b[0m\n\u001b[1;33m    what is python ?\u001b[0m\n\u001b[1;37m                   ^\u001b[0m\n\u001b[1;31mSyntaxError\u001b[0m\u001b[1;31m:\u001b[0m invalid syntax\n"
     ]
    }
   ],
   "source": [
    "what is python ?"
   ]
  },
  {
   "cell_type": "markdown",
   "metadata": {},
   "source": [
    "### python\n",
    "- it is a general purpose,high level and interpreted programming language\n",
    "    - **General purpose**\n",
    "        - used for multiple purposes such as scientific computation,developement\n",
    "    - **High Level**\n",
    "        - user understandable language\n",
    "    - **interpreted**\n",
    "        - gives the line by line execution\n",
    "- *features*\n",
    "    1. semi-object oriented\n",
    "    2. dynamically typed language\n",
    "    3. it is both case sensitive and space sensitive\n",
    "    4. it is easy to learn and simple to code\n",
    "    5. no prior knowlwdge of programming\n",
    "- **applications**\n",
    "    1. development(system s/w,mbl applications,web developement)\n",
    "    "
   ]
  },
  {
   "cell_type": "code",
   "execution_count": 5,
   "metadata": {
    "collapsed": true
   },
   "outputs": [
    {
     "ename": "SyntaxError",
     "evalue": "invalid syntax (<ipython-input-5-5c8da03c8b4b>, line 1)",
     "output_type": "error",
     "traceback": [
      "\u001b[1;36m  File \u001b[1;32m\"<ipython-input-5-5c8da03c8b4b>\"\u001b[1;36m, line \u001b[1;32m1\u001b[0m\n\u001b[1;33m    C language-- hard ware(OS Bulding)\u001b[0m\n\u001b[1;37m             ^\u001b[0m\n\u001b[1;31mSyntaxError\u001b[0m\u001b[1;31m:\u001b[0m invalid syntax\n"
     ]
    }
   ],
   "source": [
    "C language-- hard ware(OS Bulding)\n",
    "Java ---- (object dependent language):realtime example\n",
    "python--- semi object oriented "
   ]
  },
  {
   "cell_type": "code",
   "execution_count": 6,
   "metadata": {},
   "outputs": [
    {
     "data": {
      "text/plain": [
       "29"
      ]
     },
     "execution_count": 6,
     "metadata": {},
     "output_type": "execute_result"
    }
   ],
   "source": [
    "9+20"
   ]
  },
  {
   "cell_type": "code",
   "execution_count": null,
   "metadata": {},
   "outputs": [],
   "source": []
  }
 ],
 "metadata": {
  "kernelspec": {
   "display_name": "Python 3",
   "language": "python",
   "name": "python3"
  },
  "language_info": {
   "codemirror_mode": {
    "name": "ipython",
    "version": 3
   },
   "file_extension": ".py",
   "mimetype": "text/x-python",
   "name": "python",
   "nbconvert_exporter": "python",
   "pygments_lexer": "ipython3",
   "version": "3.7.6"
  }
 },
 "nbformat": 4,
 "nbformat_minor": 4
}
