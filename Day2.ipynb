{
 "cells": [
  {
   "cell_type": "markdown",
   "metadata": {},
   "source": [
    "### Tasks to complete\n",
    "1. input and output problems on strings\n",
    "    - i/p:'archana'\n",
    "    - o/p :a******a\n",
    "    \n",
    "2. \n",
    "    - i/p:aabbbn\n",
    "    - o/p:a2b3n1\n",
    "    \n",
    "3. vice-versa\n",
    "    - i/p:a3b2k5\n",
    "    - o/p:aaabbkkkkk"
   ]
  },
  {
   "cell_type": "code",
   "execution_count": 1,
   "metadata": {
    "collapsed": true
   },
   "outputs": [
    {
     "ename": "SyntaxError",
     "evalue": "invalid syntax (<ipython-input-1-44ec59fd7bcd>, line 1)",
     "output_type": "error",
     "traceback": [
      "\u001b[1;36m  File \u001b[1;32m\"<ipython-input-1-44ec59fd7bcd>\"\u001b[1;36m, line \u001b[1;32m1\u001b[0m\n\u001b[1;33m    1. input and output problems on strings\u001b[0m\n\u001b[1;37m           ^\u001b[0m\n\u001b[1;31mSyntaxError\u001b[0m\u001b[1;31m:\u001b[0m invalid syntax\n"
     ]
    }
   ],
   "source": [
    "1. input and output problems on strings\n",
    "    - i/p:'archana' # dynamic\n",
    "    - o/p :a******a"
   ]
  },
  {
   "cell_type": "code",
   "execution_count": 3,
   "metadata": {},
   "outputs": [
    {
     "name": "stdout",
     "output_type": "stream",
     "text": [
      "vanitha\n",
      "v*****a"
     ]
    }
   ],
   "source": [
    "s = input()\n",
    "for i in range (0,len(s)):\n",
    "    if(i==0 or i==len(s)-1):\n",
    "        print(s[i],end=\"\")\n",
    "    else:\n",
    "        print('*',end=\"\") # string method"
   ]
  },
  {
   "cell_type": "code",
   "execution_count": 6,
   "metadata": {},
   "outputs": [
    {
     "name": "stdout",
     "output_type": "stream",
     "text": [
      "college\n",
      "c*****e"
     ]
    }
   ],
   "source": [
    "n=input(\"\")\n",
    "s=len(n)\n",
    "for i in range (0,s):\n",
    "    if i==0 or i==s-1:\n",
    "        print(n[i],end=\"\")\n",
    "    else:\n",
    "        print('*',end=\"\")\n"
   ]
  },
  {
   "cell_type": "code",
   "execution_count": 3,
   "metadata": {},
   "outputs": [
    {
     "name": "stdout",
     "output_type": "stream",
     "text": [
      "acharya\n",
      "a*****a\n"
     ]
    }
   ],
   "source": [
    "a=input()\n",
    "b=len(a)\n",
    "print(a[0]+\"*\"*(b-2)+a[b-1]) # explain"
   ]
  },
  {
   "cell_type": "code",
   "execution_count": 5,
   "metadata": {
    "collapsed": true
   },
   "outputs": [
    {
     "name": "stdout",
     "output_type": "stream",
     "text": [
      "aakk\n",
      "a \n",
      "a \n",
      "k \n",
      "k \n"
     ]
    }
   ],
   "source": [
    "st=input()\n",
    "cnt =1\n",
    "for i in st:\n",
    "    if cnt ==1 or cnt ==len(st):\n",
    "        print(i,\"\")\n",
    "    else:\n",
    "        print(\"*\",end=\"\")\n"
   ]
  },
  {
   "cell_type": "code",
   "execution_count": 8,
   "metadata": {},
   "outputs": [
    {
     "name": "stdout",
     "output_type": "stream",
     "text": [
      "name\n",
      "n**e"
     ]
    }
   ],
   "source": [
    "st=input()\n",
    "cnt =1\n",
    "for i in st:\n",
    "    if cnt ==1 or cnt ==len(st):\n",
    "        print(i,end=\"\")\n",
    "    else:\n",
    "        print(\"*\",end=\"\")\n",
    "    cnt+=1"
   ]
  },
  {
   "cell_type": "code",
   "execution_count": null,
   "metadata": {},
   "outputs": [],
   "source": []
  }
 ],
 "metadata": {
  "kernelspec": {
   "display_name": "Python 3",
   "language": "python",
   "name": "python3"
  },
  "language_info": {
   "codemirror_mode": {
    "name": "ipython",
    "version": 3
   },
   "file_extension": ".py",
   "mimetype": "text/x-python",
   "name": "python",
   "nbconvert_exporter": "python",
   "pygments_lexer": "ipython3",
   "version": "3.7.6"
  }
 },
 "nbformat": 4,
 "nbformat_minor": 4
}
